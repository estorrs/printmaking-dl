{
 "cells": [
  {
   "cell_type": "code",
   "execution_count": 1,
   "id": "1a126ac2",
   "metadata": {},
   "outputs": [],
   "source": [
    "import numpy as np\n",
    "import torch\n",
    "import matplotlib.pyplot as plt"
   ]
  },
  {
   "cell_type": "code",
   "execution_count": 2,
   "id": "d035cf2f",
   "metadata": {},
   "outputs": [],
   "source": [
    "%load_ext autoreload"
   ]
  },
  {
   "cell_type": "code",
   "execution_count": 3,
   "id": "0e6db28f",
   "metadata": {},
   "outputs": [],
   "source": [
    "%autoreload 2"
   ]
  },
  {
   "cell_type": "code",
   "execution_count": 4,
   "id": "7d868ca1",
   "metadata": {},
   "outputs": [],
   "source": [
    "from printmaking_dl.color_mixing import lerp_float"
   ]
  },
  {
   "cell_type": "code",
   "execution_count": 7,
   "id": "fe2f91a2",
   "metadata": {},
   "outputs": [],
   "source": [
    "def show_rgb(rgb, ax=None):\n",
    "    tile = np.zeros((10, 10, 3), dtype=rgb.dtype)\n",
    "    tile[:, :] = rgb\n",
    "    \n",
    "    if ax is None:\n",
    "        fig, ax = plt.subplots()\n",
    "    ax.imshow(tile)\n",
    "    ax.axis('off')\n",
    "    \n",
    "    return ax"
   ]
  },
  {
   "cell_type": "code",
   "execution_count": 10,
   "id": "a0c4bbff",
   "metadata": {},
   "outputs": [
    {
     "name": "stdout",
     "output_type": "stream",
     "text": [
      "tensor([0.9294, 0.6627, 0.6431]) tensor([0.9608, 0.9412, 0.9412]) tensor([0.9459, 0.7926, 0.7803])\n"
     ]
    },
    {
     "data": {
      "image/png": "[encoded data removed]",
      "text/plain": [
       "<Figure size 640x480 with 3 Axes>"
      ]
     },
     "metadata": {},
     "output_type": "display_data"
    }
   ],
   "source": [
    "rgb1 = torch.tensor([237, 169, 164]) / 255.\n",
    "rgb2 = torch.tensor([245, 240, 240]) / 255.\n",
    "t = 0.5\n",
    "\n",
    "rgb_mix = torch.tensor(lerp_float(rgb1, rgb2, t))\n",
    "\n",
    "rgb_mix\n",
    "\n",
    "fig, axs = plt.subplots(ncols=3)\n",
    "for rgb, ax in zip([rgb1, rgb2, rgb_mix], axs):\n",
    "    ax = show_rgb(rgb.numpy(), ax=ax)\n",
    "print(rgb1, rgb2, rgb_mix)"
   ]
  },
  {
   "cell_type": "code",
   "execution_count": null,
   "id": "1653fd33",
   "metadata": {},
   "outputs": [],
   "source": []
  }
 ],
 "metadata": {
  "kernelspec": {
   "display_name": "Python 3 (ipykernel)",
   "language": "python",
   "name": "python3"
  },
  "language_info": {
   "codemirror_mode": {
    "name": "ipython",
    "version": 3
   },
   "file_extension": ".py",
   "mimetype": "text/x-python",
   "name": "python",
   "nbconvert_exporter": "python",
   "pygments_lexer": "ipython3",
   "version": "3.10.0"
  }
 },
 "nbformat": 4,
 "nbformat_minor": 5
}
